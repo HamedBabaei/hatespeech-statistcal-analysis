{
 "cells": [
  {
   "cell_type": "code",
   "execution_count": 207,
   "metadata": {},
   "outputs": [
    {
     "name": "stdout",
     "output_type": "stream",
     "text": [
      "bert_runner.py\tdatasets      notebooks\t\t statistical_test.py\n",
      "configurations\tlogs\t      pretrained-models  statistical_tests\n",
      "datahandlers\tml_runner.py  process.py\t utils\n",
      "datahelpers\tmodels\t      README.md\n",
      "------------------------------------\n",
      " __init__.py\t\t\t      twitter-evaluation-roberta.json   v1\n",
      "'twitter-evaluation-(5-CV)-ml.json'   twitter-history-roberta.json\n",
      " twitter-evaluation-ml.json\t      twitter_stats.json\n",
      "------------------------------------\n",
      "twitter_test.csv  twitter_train.csv  twitter_val.csv\n"
     ]
    }
   ],
   "source": [
    "!ls ..\n",
    "\n",
    "!echo \"------------------------------------\"\n",
    "\n",
    "!ls ../logs\n",
    "\n",
    "!echo \"------------------------------------\"\n",
    "\n",
    "!ls ../datasets/twitter/intermediate"
   ]
  },
  {
   "cell_type": "code",
   "execution_count": 208,
   "metadata": {},
   "outputs": [],
   "source": [
    "import __init__\n",
    "import json\n",
    "import re\n",
    "import random\n",
    "import pandas as pd\n",
    "from datahandlers import DataReader\n",
    "from sklearn.feature_extraction.text import TfidfVectorizer\n",
    "random.seed(10)\n",
    "\n",
    "tfidf = TfidfVectorizer(ngram_range=(2,4), sublinear_tf=True, analyzer='char')\n",
    "\n",
    "def process_tweet(tweet):\n",
    "    return \" \".join(re.sub(\"(@[A-Za-z0-9]+)|([^0-9A-Za-z \\t])\", \" \", tweet.lower()).split())"
   ]
  },
  {
   "cell_type": "code",
   "execution_count": 215,
   "metadata": {},
   "outputs": [
    {
     "data": {
      "text/html": [
       "<div>\n",
       "<style scoped>\n",
       "    .dataframe tbody tr th:only-of-type {\n",
       "        vertical-align: middle;\n",
       "    }\n",
       "\n",
       "    .dataframe tbody tr th {\n",
       "        vertical-align: top;\n",
       "    }\n",
       "\n",
       "    .dataframe thead th {\n",
       "        text-align: right;\n",
       "    }\n",
       "</style>\n",
       "<table border=\"1\" class=\"dataframe\">\n",
       "  <thead>\n",
       "    <tr style=\"text-align: right;\">\n",
       "      <th></th>\n",
       "      <th>tweet</th>\n",
       "      <th>label</th>\n",
       "      <th>processed_tweets</th>\n",
       "    </tr>\n",
       "  </thead>\n",
       "  <tbody>\n",
       "    <tr>\n",
       "      <th>0</th>\n",
       "      <td>@user âmy mom says my smile is captivatingâ...</td>\n",
       "      <td>0</td>\n",
       "      <td>my mom says my smile is captivating i says hap...</td>\n",
       "    </tr>\n",
       "    <tr>\n",
       "      <th>1</th>\n",
       "      <td>in 3 days i will be meeting my sis-n-law, coun...</td>\n",
       "      <td>0</td>\n",
       "      <td>in 3 days i will be meeting my sis n law coune...</td>\n",
       "    </tr>\n",
       "  </tbody>\n",
       "</table>\n",
       "</div>"
      ],
      "text/plain": [
       "                                               tweet  label  \\\n",
       "0   @user âmy mom says my smile is captivatingâ...      0   \n",
       "1  in 3 days i will be meeting my sis-n-law, coun...      0   \n",
       "\n",
       "                                    processed_tweets  \n",
       "0  my mom says my smile is captivating i says hap...  \n",
       "1  in 3 days i will be meeting my sis n law coune...  "
      ]
     },
     "metadata": {},
     "output_type": "display_data"
    },
    {
     "name": "stdout",
     "output_type": "stream",
     "text": [
      "RoBERTa_predicts keys:dict_keys(['Test-F1 Macro', 'Test-accuracy', 'Test-classification-report', 'Test-gt', 'Test-predict', 'Val-F1 Macro', 'Val-accuracy', 'Val-classification-report', 'Val-gt', 'Val-predict'])\n"
     ]
    }
   ],
   "source": [
    "val = DataReader.load_csv(\"../datasets/twitter/intermediate/twitter_val.csv\")\n",
    "val['processed_tweets'] = val['tweet'].apply(process_tweet)\n",
    "\n",
    "\n",
    "test = DataReader.load_csv(\"../datasets/twitter/intermediate/twitter_test.csv\")\n",
    "test['processed_tweets'] = test['tweet'].apply(process_tweet)\n",
    "\n",
    "train = DataReader.load_csv(\"../datasets/twitter/intermediate/twitter_train.csv\")\n",
    "train['processed_tweets'] = train['tweet'].apply(process_tweet)\n",
    "\n",
    "display(test.head(2))\n",
    "\n",
    "NgramLSVM_predicts = DataReader.load_json(\"../logs/twitter-evaluation-ml.json\")\n",
    "RoBERTa_predicts = DataReader.load_json(\"../logs/twitter-evaluation-roberta.json\")\n",
    "\n",
    "print(f\"RoBERTa_predicts keys:{RoBERTa_predicts.keys()}\")"
   ]
  },
  {
   "cell_type": "code",
   "execution_count": 202,
   "metadata": {},
   "outputs": [
    {
     "name": "stdout",
     "output_type": "stream",
     "text": [
      "# of samples NgramLSVM predict correctly but RoBERTa predicts wrongly:35\n",
      "\n",
      "# of samples RoBERTa predict correctly but NgramLSVM predicts wrongly:166\n",
      "\n",
      "# both models predict wrongly:58\n",
      "\n",
      "# both models predict correctly:6134\n"
     ]
    }
   ],
   "source": [
    "gold = NgramLSVM_predicts['Test-gt']\n",
    "\n",
    "clf1_pred_eval = [1 if gt == NgramLSVM_predicts['Test-predict'][i] else 0 for i, gt in enumerate(gold)]\n",
    "\n",
    "clf2_pred_eval = [1 if gt == RoBERTa_predicts['Test-predict'][i] else 0 for i, gt in enumerate(gold)]\n",
    "\n",
    "ngramlsvm_correct_roberta_wrong_ids = [i for i, _ in enumerate(clf1_pred_eval)\n",
    "                                      if clf1_pred_eval[i] == 1 and clf2_pred_eval[i] == 0]\n",
    "\n",
    "roberta_correct_ngramlsvm_wrong_ids = [i for i, _ in enumerate(clf1_pred_eval)\n",
    "                                      if clf1_pred_eval[i] == 0 and clf2_pred_eval[i] == 1]\n",
    "\n",
    "both_models_predict_wrong = [i for i, _ in enumerate(clf1_pred_eval)\n",
    "                            if clf1_pred_eval[i] == 0 and clf2_pred_eval[i] == 0]\n",
    "\n",
    "both_models_predict_correctly = [i for i, _ in enumerate(clf1_pred_eval)\n",
    "                            if clf1_pred_eval[i] == 1 and clf2_pred_eval[i] == 1]\n",
    "\n",
    "\n",
    "print(f\"# of samples NgramLSVM predict correctly but RoBERTa predicts wrongly:\"\n",
    "      f\"{len(ngramlsvm_correct_roberta_wrong_ids)}\\n\")\n",
    "\n",
    "print(f\"# of samples RoBERTa predict correctly but NgramLSVM predicts wrongly:\"\n",
    "      f\"{len(roberta_correct_ngramlsvm_wrong_ids)}\\n\")\n",
    "\n",
    "print(f\"# both models predict wrongly:\"\n",
    "      f\"{len(both_models_predict_wrong)}\\n\")\n",
    "\n",
    "print(f\"# both models predict correctly:\"\n",
    "      f\"{len(both_models_predict_correctly)}\")"
   ]
  },
  {
   "cell_type": "code",
   "execution_count": 225,
   "metadata": {},
   "outputs": [
    {
     "name": "stdout",
     "output_type": "stream",
     "text": [
      "[1783, 452, 3971, 1464, 1985, 121, 2307]\n",
      "[1768, 3624, 3973, 3023, 2824, 2219, 3184]\n",
      "[1836, 760, 2969, 1072, 2819, 1873, 516]\n",
      "[35, 2003, 1143, 1660, 2581, 3122, 2044, 2682]\n"
     ]
    }
   ],
   "source": [
    "# picking 10 first samples from each category for both classes for investigations\n",
    "sample_no = 10\n",
    "\n",
    "def get_random_samples(ids, sample_no):\n",
    "    sample = random.sample(range(0, len(ids)), k=sample_no)\n",
    "    #print(len(list(set(sample))))\n",
    "    return [ids[i] for i in sample if ids[i] < 4000]\n",
    "\n",
    "def get_samples(data, ids, sample_no):\n",
    "    select = get_random_samples(ids, sample_no)\n",
    "    print(select)\n",
    "#    select = [i for i in select]\n",
    "    \n",
    "    #[random.choice(ids) for i in range(sample_no)]\n",
    "    df_data = {\n",
    "        \"tweet\":[data['tweet'].tolist()[i] for i in select],\n",
    "        \"label\":[data['label'].tolist()[i] for i in select],\n",
    "        \"processed_tweets\":[data['processed_tweets'].tolist()[i] \n",
    "                            for i in select]\n",
    "    }\n",
    "    return pd.DataFrame(df_data)\n",
    "\n",
    "ngramlsvm_correct_roberta_wrong_samples = get_samples(test, ngramlsvm_correct_roberta_wrong_ids, sample_no)\n",
    "roberta_correct_ngramlsvm_wrong_samples = get_samples(test, roberta_correct_ngramlsvm_wrong_ids, sample_no)\n",
    "both_models_predict_wrong_samples = get_samples(test, both_models_predict_wrong, sample_no)\n",
    "both_models_predict_correctly_samples = get_samples(test, both_models_predict_correctly, sample_no)"
   ]
  },
  {
   "cell_type": "code",
   "execution_count": 226,
   "metadata": {},
   "outputs": [
    {
     "data": {
      "text/plain": [
       "(4795, 3)"
      ]
     },
     "execution_count": 226,
     "metadata": {},
     "output_type": "execute_result"
    }
   ],
   "source": [
    "test.shape"
   ]
  },
  {
   "cell_type": "code",
   "execution_count": 227,
   "metadata": {},
   "outputs": [
    {
     "data": {
      "text/html": [
       "<div>\n",
       "<style scoped>\n",
       "    .dataframe tbody tr th:only-of-type {\n",
       "        vertical-align: middle;\n",
       "    }\n",
       "\n",
       "    .dataframe tbody tr th {\n",
       "        vertical-align: top;\n",
       "    }\n",
       "\n",
       "    .dataframe thead th {\n",
       "        text-align: right;\n",
       "    }\n",
       "</style>\n",
       "<table border=\"1\" class=\"dataframe\">\n",
       "  <thead>\n",
       "    <tr style=\"text-align: right;\">\n",
       "      <th></th>\n",
       "      <th>tweet</th>\n",
       "      <th>label</th>\n",
       "      <th>processed_tweets</th>\n",
       "    </tr>\n",
       "  </thead>\n",
       "  <tbody>\n",
       "    <tr>\n",
       "      <th>0</th>\n",
       "      <td>#smallscale #woodland #beekeeping. #bees are  ...</td>\n",
       "      <td>0</td>\n",
       "      <td>smallscale woodland beekeeping bees are in the...</td>\n",
       "    </tr>\n",
       "    <tr>\n",
       "      <th>1</th>\n",
       "      <td>this will be an amazingly talkshow this thursd...</td>\n",
       "      <td>0</td>\n",
       "      <td>this will be an amazingly talkshow this thursd...</td>\n",
       "    </tr>\n",
       "    <tr>\n",
       "      <th>2</th>\n",
       "      <td>happy father's day !   #belgrade #guinea-bissau</td>\n",
       "      <td>0</td>\n",
       "      <td>happy father s day belgrade guinea bissau</td>\n",
       "    </tr>\n",
       "    <tr>\n",
       "      <th>3</th>\n",
       "      <td>@user i had a dream we went skiing, but we ne...</td>\n",
       "      <td>0</td>\n",
       "      <td>i had a dream we went skiing but we never made...</td>\n",
       "    </tr>\n",
       "    <tr>\n",
       "      <th>4</th>\n",
       "      <td>one day, i'll go to a nude beach ðð´ð¾â...</td>\n",
       "      <td>0</td>\n",
       "      <td>one day i ll go to a nude beach hippie life</td>\n",
       "    </tr>\n",
       "    <tr>\n",
       "      <th>5</th>\n",
       "      <td>@user i'm surprised they didn't have a gun, th...</td>\n",
       "      <td>0</td>\n",
       "      <td>i m surprised they didn t have a gun they usua...</td>\n",
       "    </tr>\n",
       "    <tr>\n",
       "      <th>6</th>\n",
       "      <td>depressed blvck princ3 âï¸ðâ¹ï¸ð #c...</td>\n",
       "      <td>0</td>\n",
       "      <td>depressed blvck princ3 clubkid dpressed blvck ...</td>\n",
       "    </tr>\n",
       "    <tr>\n",
       "      <th>7</th>\n",
       "      <td>**new 190k gym** coming 14th june to your pola...</td>\n",
       "      <td>0</td>\n",
       "      <td>new 190k gym coming 14th june to your poland c...</td>\n",
       "    </tr>\n",
       "  </tbody>\n",
       "</table>\n",
       "</div>"
      ],
      "text/plain": [
       "                                               tweet  label  \\\n",
       "0  #smallscale #woodland #beekeeping. #bees are  ...      0   \n",
       "1  this will be an amazingly talkshow this thursd...      0   \n",
       "2   happy father's day !   #belgrade #guinea-bissau       0   \n",
       "3   @user i had a dream we went skiing, but we ne...      0   \n",
       "4  one day, i'll go to a nude beach ðð´ð¾â...      0   \n",
       "5  @user i'm surprised they didn't have a gun, th...      0   \n",
       "6  depressed blvck princ3 âï¸ðâ¹ï¸ð #c...      0   \n",
       "7  **new 190k gym** coming 14th june to your pola...      0   \n",
       "\n",
       "                                    processed_tweets  \n",
       "0  smallscale woodland beekeeping bees are in the...  \n",
       "1  this will be an amazingly talkshow this thursd...  \n",
       "2          happy father s day belgrade guinea bissau  \n",
       "3  i had a dream we went skiing but we never made...  \n",
       "4        one day i ll go to a nude beach hippie life  \n",
       "5  i m surprised they didn t have a gun they usua...  \n",
       "6  depressed blvck princ3 clubkid dpressed blvck ...  \n",
       "7  new 190k gym coming 14th june to your poland c...  "
      ]
     },
     "execution_count": 227,
     "metadata": {},
     "output_type": "execute_result"
    }
   ],
   "source": [
    "both_models_predict_correctly_samples.head(10)"
   ]
  },
  {
   "cell_type": "code",
   "execution_count": 142,
   "metadata": {},
   "outputs": [],
   "source": [
    "#tfidf.fit(test[''])"
   ]
  },
  {
   "cell_type": "code",
   "execution_count": 131,
   "metadata": {},
   "outputs": [],
   "source": [
    "\n",
    "# Output [60, 20, 60]\n"
   ]
  },
  {
   "cell_type": "code",
   "execution_count": 205,
   "metadata": {},
   "outputs": [
    {
     "data": {
      "text/plain": [
       "((4795, 2), (23091, 2))"
      ]
     },
     "execution_count": 205,
     "metadata": {},
     "output_type": "execute_result"
    }
   ],
   "source": [
    "test = DataReader.load_csv(\"../datasets/twitter/intermediate/twitter_test.csv\")\n",
    "\n",
    "\n",
    "train = DataReader.load_csv(\"../datasets/twitter/intermediate/twitter_train.csv\")\n",
    "test.shape, train.shape"
   ]
  },
  {
   "cell_type": "code",
   "execution_count": 206,
   "metadata": {},
   "outputs": [
    {
     "data": {
      "text/plain": [
       "6393"
      ]
     },
     "execution_count": 206,
     "metadata": {},
     "output_type": "execute_result"
    }
   ],
   "source": [
    "len(gold)"
   ]
  },
  {
   "cell_type": "code",
   "execution_count": null,
   "metadata": {},
   "outputs": [],
   "source": []
  }
 ],
 "metadata": {
  "kernelspec": {
   "display_name": "Python 3",
   "language": "python",
   "name": "python3"
  },
  "language_info": {
   "codemirror_mode": {
    "name": "ipython",
    "version": 3
   },
   "file_extension": ".py",
   "mimetype": "text/x-python",
   "name": "python",
   "nbconvert_exporter": "python",
   "pygments_lexer": "ipython3",
   "version": "3.6.9"
  }
 },
 "nbformat": 4,
 "nbformat_minor": 2
}
