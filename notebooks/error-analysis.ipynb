{
 "cells": [
  {
   "cell_type": "code",
   "execution_count": 23,
   "metadata": {},
   "outputs": [
    {
     "name": "stdout",
     "output_type": "stream",
     "text": [
      "bert_runner.py\tdatasets      notebooks\t\tstatistical_test.py\n",
      "configurations\tlogs\t      pretrained-model\tstatistical_tests\n",
      "datahandlers\tml_runner.py  process.py\tutils\n",
      "datahelpers\tmodels\t      README.md\n",
      "------------------------------------\n",
      " __init__.py\t\t\t      twitter-evaluation-roberta.json   v1\n",
      "'twitter-evaluation-(5-CV)-ml.json'   twitter-history-roberta.json\n",
      " twitter-evaluation-ml.json\t      twitter_stats.json\n",
      "------------------------------------\n",
      "twitter_test.csv  twitter_train.csv  twitter_val.csv\n"
     ]
    }
   ],
   "source": [
    "!ls ..\n",
    "\n",
    "!echo \"------------------------------------\"\n",
    "\n",
    "!ls ../logs\n",
    "\n",
    "!echo \"------------------------------------\"\n",
    "\n",
    "!ls ../datasets/twitter/intermediate"
   ]
  },
  {
   "cell_type": "code",
   "execution_count": 24,
   "metadata": {},
   "outputs": [],
   "source": [
    "import __init__\n",
    "import json\n",
    "import re\n",
    "import random\n",
    "import pandas as pd\n",
    "import numpy as np\n",
    "from datahandlers import DataReader\n",
    "from sklearn.feature_extraction.text import TfidfVectorizer\n",
    "random.seed(10)\n",
    "\n",
    "tfidf = TfidfVectorizer(ngram_range=(2,4), sublinear_tf=True, analyzer='char')\n",
    "\n",
    "def process_tweet(tweet):\n",
    "    return \" \".join(re.sub(\"(@[A-Za-z0-9]+)|([^0-9A-Za-z \\t])\", \" \", tweet.lower()).split())"
   ]
  },
  {
   "cell_type": "code",
   "execution_count": 25,
   "metadata": {},
   "outputs": [
    {
     "data": {
      "text/html": [
       "<div>\n",
       "<style scoped>\n",
       "    .dataframe tbody tr th:only-of-type {\n",
       "        vertical-align: middle;\n",
       "    }\n",
       "\n",
       "    .dataframe tbody tr th {\n",
       "        vertical-align: top;\n",
       "    }\n",
       "\n",
       "    .dataframe thead th {\n",
       "        text-align: right;\n",
       "    }\n",
       "</style>\n",
       "<table border=\"1\" class=\"dataframe\">\n",
       "  <thead>\n",
       "    <tr style=\"text-align: right;\">\n",
       "      <th></th>\n",
       "      <th>tweet</th>\n",
       "      <th>label</th>\n",
       "      <th>processed_tweets</th>\n",
       "    </tr>\n",
       "  </thead>\n",
       "  <tbody>\n",
       "    <tr>\n",
       "      <th>0</th>\n",
       "      <td>@user âmy mom says my smile is captivatingâ...</td>\n",
       "      <td>0</td>\n",
       "      <td>my mom says my smile is captivating i says hap...</td>\n",
       "    </tr>\n",
       "    <tr>\n",
       "      <th>1</th>\n",
       "      <td>in 3 days i will be meeting my sis-n-law, coun...</td>\n",
       "      <td>0</td>\n",
       "      <td>in 3 days i will be meeting my sis n law coune...</td>\n",
       "    </tr>\n",
       "  </tbody>\n",
       "</table>\n",
       "</div>"
      ],
      "text/plain": [
       "                                               tweet  label  \\\n",
       "0   @user âmy mom says my smile is captivatingâ...      0   \n",
       "1  in 3 days i will be meeting my sis-n-law, coun...      0   \n",
       "\n",
       "                                    processed_tweets  \n",
       "0  my mom says my smile is captivating i says hap...  \n",
       "1  in 3 days i will be meeting my sis n law coune...  "
      ]
     },
     "metadata": {},
     "output_type": "display_data"
    },
    {
     "name": "stdout",
     "output_type": "stream",
     "text": [
      "RoBERTa_predicts keys:dict_keys(['Test-F1 Macro', 'Test-accuracy', 'Test-classification-report', 'Test-gt', 'Test-predict', 'Val-F1 Macro', 'Val-accuracy', 'Val-classification-report', 'Val-gt', 'Val-predict'])\n",
      "Size of Vocabulary: 76484\n"
     ]
    }
   ],
   "source": [
    "test = DataReader.load_csv(\"../datasets/twitter/intermediate/twitter_test.csv\")\n",
    "test['processed_tweets'] = test['tweet'].apply(process_tweet)\n",
    "\n",
    "train = DataReader.load_csv(\"../datasets/twitter/intermediate/twitter_train.csv\")\n",
    "train['processed_tweets'] = train['tweet'].apply(process_tweet)\n",
    "\n",
    "display(test.head(2))\n",
    "\n",
    "NgramLSVM_predicts = DataReader.load_json(\"../logs/twitter-evaluation-ml.json\")\n",
    "RoBERTa_predicts = DataReader.load_json(\"../logs/twitter-evaluation-roberta.json\")\n",
    "\n",
    "print(f\"RoBERTa_predicts keys:{RoBERTa_predicts.keys()}\")\n",
    "\n",
    "# Train the same tfidf vectorize as the NgramLSVM used\n",
    "tfidf.fit(train['processed_tweets'])\n",
    "\n",
    "print(f\"Size of Vocabulary: {len(tfidf.vocabulary_)}\")"
   ]
  },
  {
   "cell_type": "code",
   "execution_count": 26,
   "metadata": {},
   "outputs": [
    {
     "name": "stdout",
     "output_type": "stream",
     "text": [
      "# of samples NgramLSVM predict correctly but RoBERTa predicts wrongly:35\n",
      "\n",
      "# of samples RoBERTa predict correctly but NgramLSVM predicts wrongly:166\n",
      "\n",
      "# both models predict wrongly:58\n",
      "\n",
      "# both models predict correctly:6134\n"
     ]
    }
   ],
   "source": [
    "gold = NgramLSVM_predicts['Test-gt']\n",
    "\n",
    "clf1_pred_eval = [1 if gt == NgramLSVM_predicts['Test-predict'][i] else 0 for i, gt in enumerate(gold)]\n",
    "\n",
    "clf2_pred_eval = [1 if gt == RoBERTa_predicts['Test-predict'][i] else 0 for i, gt in enumerate(gold)]\n",
    "\n",
    "ngramlsvm_correct_roberta_wrong_ids = [i for i, _ in enumerate(clf1_pred_eval)\n",
    "                                      if clf1_pred_eval[i] == 1 and clf2_pred_eval[i] == 0]\n",
    "\n",
    "roberta_correct_ngramlsvm_wrong_ids = [i for i, _ in enumerate(clf1_pred_eval)\n",
    "                                      if clf1_pred_eval[i] == 0 and clf2_pred_eval[i] == 1]\n",
    "\n",
    "both_models_predict_wrong = [i for i, _ in enumerate(clf1_pred_eval)\n",
    "                            if clf1_pred_eval[i] == 0 and clf2_pred_eval[i] == 0]\n",
    "\n",
    "both_models_predict_correctly = [i for i, _ in enumerate(clf1_pred_eval)\n",
    "                            if clf1_pred_eval[i] == 1 and clf2_pred_eval[i] == 1]\n",
    "\n",
    "\n",
    "print(f\"# of samples NgramLSVM predict correctly but RoBERTa predicts wrongly:\"\n",
    "      f\"{len(ngramlsvm_correct_roberta_wrong_ids)}\\n\")\n",
    "\n",
    "print(f\"# of samples RoBERTa predict correctly but NgramLSVM predicts wrongly:\"\n",
    "      f\"{len(roberta_correct_ngramlsvm_wrong_ids)}\\n\")\n",
    "\n",
    "print(f\"# both models predict wrongly:\"\n",
    "      f\"{len(both_models_predict_wrong)}\\n\")\n",
    "\n",
    "print(f\"# both models predict correctly:\"\n",
    "      f\"{len(both_models_predict_correctly)}\")"
   ]
  },
  {
   "cell_type": "code",
   "execution_count": 5,
   "metadata": {},
   "outputs": [],
   "source": [
    "# picking 10 first samples from each category for both classes for investigations\n",
    "sample_no = 10\n",
    "\n",
    "def get_random_samples(ids, sample_no):\n",
    "    sample = random.sample(range(0, len(ids)), k=sample_no)\n",
    "    return [ids[i] for i in sample]\n",
    "\n",
    "def analysis(data):\n",
    "    mtx = tfidf.transform(data['tweet'])\n",
    "    scores = list(np.sum(mtx.toarray(), axis=1))\n",
    "    counts = np.count_nonzero(mtx.toarray(), axis=1)\n",
    "    data['tfidf-score'] = scores\n",
    "    data['tfidf-token-counts'] = counts\n",
    "    return data\n",
    "\n",
    "def get_samples(data, ids, sample_no):\n",
    "    select = get_random_samples(ids, sample_no)\n",
    "    #print(select)\n",
    "    df_data = {\n",
    "        \"tweet\":[data['tweet'].tolist()[i] for i in select],\n",
    "        \"label\":[data['label'].tolist()[i] for i in select],\n",
    "        \"processed_tweets\":[data['processed_tweets'].tolist()[i] for i in select],\n",
    "        \"roberta-predict\": [RoBERTa_predicts['Test-predict'][i] for i in select],\n",
    "        \"ngramlsvm-predict\": [NgramLSVM_predicts['Test-predict'][i] for i in select],\n",
    "    }\n",
    "    df_data = analysis(df_data)\n",
    "    return pd.DataFrame(df_data)\n",
    "\n",
    "ngramlsvm_correct_roberta_wrong_samples = get_samples(test, ngramlsvm_correct_roberta_wrong_ids, sample_no=35)\n",
    "roberta_correct_ngramlsvm_wrong_samples = get_samples(test, roberta_correct_ngramlsvm_wrong_ids, sample_no=166)\n",
    "both_models_predict_wrong_samples = get_samples(test, both_models_predict_wrong, sample_no=58)\n",
    "both_models_predict_correctly_samples = get_samples(test, both_models_predict_correctly, sample_no=6134)"
   ]
  },
  {
   "cell_type": "code",
   "execution_count": 6,
   "metadata": {},
   "outputs": [
    {
     "data": {
      "text/html": [
       "<div>\n",
       "<style scoped>\n",
       "    .dataframe tbody tr th:only-of-type {\n",
       "        vertical-align: middle;\n",
       "    }\n",
       "\n",
       "    .dataframe tbody tr th {\n",
       "        vertical-align: top;\n",
       "    }\n",
       "\n",
       "    .dataframe thead th {\n",
       "        text-align: right;\n",
       "    }\n",
       "</style>\n",
       "<table border=\"1\" class=\"dataframe\">\n",
       "  <thead>\n",
       "    <tr style=\"text-align: right;\">\n",
       "      <th></th>\n",
       "      <th>tweet</th>\n",
       "      <th>label</th>\n",
       "      <th>processed_tweets</th>\n",
       "      <th>roberta-predict</th>\n",
       "      <th>ngramlsvm-predict</th>\n",
       "      <th>tfidf-score</th>\n",
       "      <th>tfidf-token-counts</th>\n",
       "    </tr>\n",
       "  </thead>\n",
       "  <tbody>\n",
       "    <tr>\n",
       "      <th>0</th>\n",
       "      <td>white girls will never break the internet...  ...</td>\n",
       "      <td>0</td>\n",
       "      <td>white girls will never break the internet</td>\n",
       "      <td>1</td>\n",
       "      <td>0</td>\n",
       "      <td>9.897643</td>\n",
       "      <td>113</td>\n",
       "    </tr>\n",
       "    <tr>\n",
       "      <th>1</th>\n",
       "      <td>the headline porays the mindset of the majorit...</td>\n",
       "      <td>0</td>\n",
       "      <td>the headline porays the mindset of the majorit...</td>\n",
       "      <td>1</td>\n",
       "      <td>0</td>\n",
       "      <td>11.897464</td>\n",
       "      <td>166</td>\n",
       "    </tr>\n",
       "    <tr>\n",
       "      <th>2</th>\n",
       "      <td>!!! no-balls to 'own' his  ... 'coward' !!! ///</td>\n",
       "      <td>1</td>\n",
       "      <td>no balls to own his coward</td>\n",
       "      <td>0</td>\n",
       "      <td>1</td>\n",
       "      <td>6.166505</td>\n",
       "      <td>46</td>\n",
       "    </tr>\n",
       "  </tbody>\n",
       "</table>\n",
       "</div>"
      ],
      "text/plain": [
       "                                               tweet  label  \\\n",
       "0  white girls will never break the internet...  ...      0   \n",
       "1  the headline porays the mindset of the majorit...      0   \n",
       "2   !!! no-balls to 'own' his  ... 'coward' !!! ///       1   \n",
       "\n",
       "                                    processed_tweets  roberta-predict  \\\n",
       "0          white girls will never break the internet                1   \n",
       "1  the headline porays the mindset of the majorit...                1   \n",
       "2                         no balls to own his coward                0   \n",
       "\n",
       "   ngramlsvm-predict  tfidf-score  tfidf-token-counts  \n",
       "0                  0     9.897643                 113  \n",
       "1                  0    11.897464                 166  \n",
       "2                  1     6.166505                  46  "
      ]
     },
     "execution_count": 6,
     "metadata": {},
     "output_type": "execute_result"
    }
   ],
   "source": [
    "ngramlsvm_correct_roberta_wrong_samples.head(3)"
   ]
  },
  {
   "cell_type": "code",
   "execution_count": 7,
   "metadata": {},
   "outputs": [
    {
     "data": {
      "text/plain": [
       "array([ 5.63776449,  6.78289679,  9.82741923, ..., 10.23288434,\n",
       "       10.23288434,  8.84658998])"
      ]
     },
     "execution_count": 7,
     "metadata": {},
     "output_type": "execute_result"
    }
   ],
   "source": [
    "tfidf.idf_"
   ]
  },
  {
   "cell_type": "code",
   "execution_count": 8,
   "metadata": {},
   "outputs": [
    {
     "data": {
      "image/png": "[encoded data removed]",
      "text/plain": [
       "<Figure size 432x288 with 1 Axes>"
      ]
     },
     "metadata": {
      "needs_background": "light"
     },
     "output_type": "display_data"
    }
   ],
   "source": [
    "import matplotlib.pyplot as plt\n",
    "\n",
    "\n",
    "# IDF histogram\n",
    "plt.hist(tfidf.idf_.astype('float'))\n",
    "plt.show()"
   ]
  },
  {
   "cell_type": "code",
   "execution_count": 9,
   "metadata": {},
   "outputs": [
    {
     "data": {
      "image/png": "[encoded data removed]",
      "text/plain": [
       "<Figure size 432x288 with 1 Axes>"
      ]
     },
     "metadata": {
      "needs_background": "light"
     },
     "output_type": "display_data"
    }
   ],
   "source": [
    "# Both models works well on the data\n",
    "# both models predict correctly:6134\n",
    "\n",
    "plt.hist(np.array(both_models_predict_correctly_samples['tfidf-score']).astype('float'))\n",
    "\n",
    "plt.show()"
   ]
  },
  {
   "cell_type": "code",
   "execution_count": 10,
   "metadata": {},
   "outputs": [
    {
     "data": {
      "image/png": "[encoded data removed]",
      "text/plain": [
       "<Figure size 432x288 with 1 Axes>"
      ]
     },
     "metadata": {
      "needs_background": "light"
     },
     "output_type": "display_data"
    }
   ],
   "source": [
    "# of samples NgramLSVM predict correctly but RoBERTa predicts wrongly:35\n",
    "plt.hist(np.array(ngramlsvm_correct_roberta_wrong_samples['tfidf-score']).astype('float'))\n",
    "\n",
    "plt.show()"
   ]
  },
  {
   "cell_type": "code",
   "execution_count": 11,
   "metadata": {},
   "outputs": [
    {
     "data": {
      "image/png": "[encoded data removed]",
      "text/plain": [
       "<Figure size 432x288 with 1 Axes>"
      ]
     },
     "metadata": {
      "needs_background": "light"
     },
     "output_type": "display_data"
    }
   ],
   "source": [
    "# of samples RoBERTa predict correctly but NgramLSVM predicts wrongly:166\n",
    "plt.hist(np.array(roberta_correct_ngramlsvm_wrong_samples['tfidf-score']).astype('float'))\n",
    "\n",
    "plt.show()"
   ]
  },
  {
   "cell_type": "code",
   "execution_count": 12,
   "metadata": {},
   "outputs": [
    {
     "data": {
      "image/png": "[encoded data removed]",
      "text/plain": [
       "<Figure size 432x288 with 1 Axes>"
      ]
     },
     "metadata": {
      "needs_background": "light"
     },
     "output_type": "display_data"
    }
   ],
   "source": [
    "# both models predict wrongly:58\n",
    "plt.hist(np.array(both_models_predict_wrong_samples['tfidf-score']).astype('float'))\n",
    "\n",
    "plt.show()\n"
   ]
  },
  {
   "cell_type": "code",
   "execution_count": 16,
   "metadata": {},
   "outputs": [],
   "source": [
    "ngramlsvm_correct_roberta_wrong_samples.to_excel(\"ngramlsvm_correct_roberta_wrong_samples.xlsx\")\n",
    "roberta_correct_ngramlsvm_wrong_samples.to_excel(\"roberta_correct_ngramlsvm_wrong_samples.xlsx\")\n",
    "both_models_predict_wrong_samples.to_excel(\"both_models_predict_wrong_samples.xlsx\")\n",
    "both_models_predict_correctly_samples.to_excel(\"both_models_predict_correctly_samples.xlsx\")"
   ]
  },
  {
   "cell_type": "code",
   "execution_count": null,
   "metadata": {},
   "outputs": [],
   "source": []
  }
 ],
 "metadata": {
  "kernelspec": {
   "display_name": "Python 3",
   "language": "python",
   "name": "python3"
  },
  "language_info": {
   "codemirror_mode": {
    "name": "ipython",
    "version": 3
   },
   "file_extension": ".py",
   "mimetype": "text/x-python",
   "name": "python",
   "nbconvert_exporter": "python",
   "pygments_lexer": "ipython3",
   "version": "3.8.10"
  }
 },
 "nbformat": 4,
 "nbformat_minor": 2
}
